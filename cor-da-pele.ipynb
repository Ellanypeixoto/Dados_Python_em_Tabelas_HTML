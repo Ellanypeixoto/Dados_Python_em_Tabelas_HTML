{
 "cells": [
  {
   "cell_type": "code",
   "execution_count": null,
   "id": "f008ad3c",
   "metadata": {},
   "outputs": [],
   "source": [
    "import pandas as pd\n",
    "import numpy as np"
   ]
  },
  {
   "cell_type": "code",
   "execution_count": null,
   "id": "986cb5e3",
   "metadata": {},
   "outputs": [],
   "source": [
    "#inserindo todos os dados de cor da pele possíveis:"
   ]
  },
  {
   "cell_type": "code",
   "execution_count": null,
   "id": "6c8e85bd",
   "metadata": {},
   "outputs": [],
   "source": [
    "cor_da_pele = ['fair', 'gold', 'light', 'white, blue', 'white', 'white, red',\n",
    "               'fair', 'green', 'green-tan, brown', 'unknown', 'pale',\n",
    "               'fair', 'grey', 'green', 'brown', 'metal', 'light', 'brown mottle', 'dark',\n",
    "               'grey, red', 'blue, grey', 'light', 'green', 'grey', 'mottled green', 'fair', 'orange',\n",
    "               'grey, blue', 'blue, grey', 'dark', 'fair', 'grey, green, yellow', 'pale', 'red', 'white, blue', 'blue',\n",
    "               'orange', 'brown', 'green', 'blue', 'dark', 'white', 'light', 'pale',\n",
    "               'green', 'fair, green, yellow', 'brown', 'yellow', 'light', 'fair', 'tan',\n",
    "               'fair', 'brown, white', 'green, grey', 'grey', 'red, blue, white', 'brown', 'silver, red', 'light',\n",
    "               'pale', 'grey']"
   ]
  },
  {
   "cell_type": "code",
   "execution_count": null,
   "id": "7807acb9",
   "metadata": {},
   "outputs": [],
   "source": [
    "#Eliminando os dados repetidos da página 1 a página 9."
   ]
  },
  {
   "cell_type": "code",
   "execution_count": 1,
   "id": "b316a2a0",
   "metadata": {},
   "outputs": [
    {
     "name": "stdout",
     "output_type": "stream",
     "text": [
      "{'brown mottle', 'orange', 'red', 'mottled green', 'fair, green, yellow', 'white, red', 'gold', 'pale', 'metal', 'fair', 'light', 'grey, red', 'grey', 'tan', 'brown', 'silver, red', 'blue, grey', 'grey, blue', 'blue', 'red, blue, white', 'yellow', 'white', 'unknown', 'brown, white', 'white, blue', 'dark', 'grey, green, yellow', 'green-tan, brown', 'green, grey', 'green'}\n"
     ]
    }
   ],
   "source": [
    "cor_da_pele_nao_repetida = {'fair', 'gold', 'light', 'white, blue', 'white', 'white, red',\n",
    "               'fair', 'green', 'green-tan, brown', 'unknown', 'pale',\n",
    "               'fair', 'grey', 'green', 'brown', 'metal', 'light', 'brown mottle', 'dark',\n",
    "               'grey, red', 'blue, grey', 'light', 'green', 'grey', 'mottled green', 'fair', 'orange',\n",
    "               'grey, blue', 'blue, grey', 'dark', 'fair', 'grey, green, yellow', 'pale', 'red', 'white, blue', 'blue',\n",
    "               'orange', 'brown', 'green', 'blue', 'dark', 'white', 'light', 'pale',\n",
    "               'green', 'fair, green, yellow', 'brown', 'yellow', 'light', 'fair', 'tan',\n",
    "               'fair', 'brown, white', 'green, grey', 'grey', 'red, blue, white', 'brown', 'silver, red', 'light',\n",
    "               'pale', 'grey'}\n",
    "\n",
    "print(cor_da_pele_nao_repetida)"
   ]
  },
  {
   "cell_type": "code",
   "execution_count": null,
   "id": "63dd9f58",
   "metadata": {},
   "outputs": [],
   "source": [
    "#Organizando os nomes das cores por ordem alfabética:"
   ]
  },
  {
   "cell_type": "code",
   "execution_count": 9,
   "id": "d5d9ecb6",
   "metadata": {},
   "outputs": [
    {
     "name": "stdout",
     "output_type": "stream",
     "text": [
      "['blue', 'blue, grey', 'brown', 'brown mottle', 'brown, white', 'dark', 'fair', 'fair, green, yellow', 'gold', 'green', 'green, grey', 'green-tan, brown', 'grey', 'grey, blue', 'grey, green, yellow', 'grey, red', 'light', 'metal', 'mottled green', 'orange', 'pale', 'red', 'red, blue, white', 'silver, red', 'tan', 'unknown', 'white', 'white, blue', 'white, red', 'yellow']\n"
     ]
    }
   ],
   "source": [
    "cor_da_pele_nao_repetida_ordem_alfabetica = ('brown mottle', 'orange', 'red', 'mottled green', 'fair, green, yellow', 'white, red', 'gold', 'pale', 'metal', 'fair', 'light', 'grey, red', 'grey', 'tan', 'brown', 'silver, red', 'blue, grey', 'grey, blue', 'blue', 'red, blue, white', 'yellow', 'white', 'unknown', 'brown, white', 'white, blue', 'dark', 'grey, green, yellow', 'green-tan, brown', 'green, grey', 'green')\n",
    "cdpnreoa = sorted(cor_da_pele_nao_repetida_ordem_alfabetica)\n",
    "print(cdpnreoa)"
   ]
  },
  {
   "cell_type": "code",
   "execution_count": 5,
   "id": "c953f7a2",
   "metadata": {},
   "outputs": [
    {
     "data": {
      "text/plain": [
       "['blue',\n",
       " 'blue, grey',\n",
       " 'brown',\n",
       " 'brown mottle',\n",
       " 'brown, white',\n",
       " 'dark',\n",
       " 'fair',\n",
       " 'fair, green, yellow',\n",
       " 'gold',\n",
       " 'green',\n",
       " 'green, grey',\n",
       " 'green-tan, brown',\n",
       " 'grey',\n",
       " 'grey, blue',\n",
       " 'grey, green, yellow',\n",
       " 'grey, red',\n",
       " 'light',\n",
       " 'metal',\n",
       " 'mottled green',\n",
       " 'orange',\n",
       " 'pale',\n",
       " 'red',\n",
       " 'red, blue, white',\n",
       " 'silver, red',\n",
       " 'tan',\n",
       " 'unknown',\n",
       " 'white',\n",
       " 'white, blue',\n",
       " 'white, red',\n",
       " 'yellow']"
      ]
     },
     "execution_count": 5,
     "metadata": {},
     "output_type": "execute_result"
    }
   ],
   "source": [
    "sorted(cor_da_pele_nao_repetida)"
   ]
  }
 ],
 "metadata": {
  "kernelspec": {
   "display_name": "Python 3 (ipykernel)",
   "language": "python",
   "name": "python3"
  },
  "language_info": {
   "codemirror_mode": {
    "name": "ipython",
    "version": 3
   },
   "file_extension": ".py",
   "mimetype": "text/x-python",
   "name": "python",
   "nbconvert_exporter": "python",
   "pygments_lexer": "ipython3",
   "version": "3.9.12"
  }
 },
 "nbformat": 4,
 "nbformat_minor": 5
}
